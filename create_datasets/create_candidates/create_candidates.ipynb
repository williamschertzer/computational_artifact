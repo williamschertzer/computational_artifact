{
 "cells": [
  {
   "cell_type": "markdown",
   "metadata": {},
   "source": [
    "# Create novel candidates based on combination of known monomers"
   ]
  },
  {
   "cell_type": "code",
   "execution_count": null,
   "metadata": {},
   "outputs": [
    {
     "name": "stdout",
     "output_type": "stream",
     "text": [
      "152096\n"
     ]
    }
   ],
   "source": [
    "import pandas as pd\n",
    "import numpy as np\n",
    "from ast import literal_eval\n",
    "import re\n",
    "from rdkit import Chem\n",
    "import itertools\n",
    "\n",
    "# import raw dataset to get format (columns), import formatted dataset to get unique monomer smiles\n",
    "props = ['OHCond(mS/cm)','WU(wt%)', 'Swelling(%)'] \n",
    "df = pd.read_csv('')\n",
    "smiles_unique = []\n",
    "for smile in df.smiles1:\n",
    "    smiles_unique.append(smile)\n",
    "for smile in df.smiles2:\n",
    "    smiles_unique.append(smile)\n",
    "for smile in df.smiles3:\n",
    "    smiles_unique.append(smile)\n",
    "set(smiles_unique)\n",
    "\n",
    "# find the number of all possible combinations of unique monomer smiles\n",
    "def findsubsets(s, n):\n",
    "    return list(itertools.combinations(s, n))\n",
    "\n",
    "print(len(findsubsets(set(smiles_unique),3)))\n",
    "combinations = findsubsets(set(smiles_unique),3)\n"
   ]
  },
  {
   "cell_type": "markdown",
   "metadata": {},
   "source": [
    "# Get all possible combinations of monomer ratios with increments of 10%"
   ]
  },
  {
   "cell_type": "code",
   "execution_count": 2,
   "metadata": {},
   "outputs": [
    {
     "name": "stdout",
     "output_type": "stream",
     "text": [
      "[(1, 0, 0), (0, 0, 1), (0, 1, 0), (0, 0.1, 0.9), (0, 0.9, 0.1), (0.9, 0, 0.1), (0.9, 0.1, 0), (0.1, 0.9, 0), (0.1, 0, 0.9), (0.8, 0, 0.2), (0, 0.8, 0.2), (0, 0.2, 0.8), (0.2, 0.8, 0), (0.2, 0, 0.8), (0.8, 0.2, 0), (0.3, 0, 0.7), (0.7, 0.3, 0), (0, 0.7, 0.3), (0, 0.3, 0.7), (0.3, 0.7, 0), (0.7, 0, 0.3), (0, 0.6, 0.4), (0.4, 0, 0.6), (0, 0.4, 0.6), (0.6, 0, 0.4), (0.6, 0.4, 0), (0.4, 0.6, 0), (0.5, 0.5, 0), (0, 0.5, 0.5), (0.5, 0, 0.5), (0.1, 0.1, 0.8), (0.1, 0.8, 0.1), (0.8, 0.1, 0.1), (0.7, 0.1, 0.2), (0.1, 0.2, 0.7), (0.1, 0.7, 0.2), (0.2, 0.1, 0.7), (0.6, 0.1, 0.3), (0.1, 0.3, 0.6), (0.1, 0.6, 0.3), (0.3, 0.1, 0.6), (0.1, 0.4, 0.5), (0.5, 0.1, 0.4), (0.1, 0.5, 0.4), (0.4, 0.1, 0.5), (0.5, 0.4, 0.1), (0.4, 0.5, 0.1), (0.6, 0.2, 0.2), (0.2, 0.6, 0.2), (0.2, 0.2, 0.6), (0.3, 0.5, 0.2), (0.5, 0.3, 0.2), (0.2, 0.3, 0.5), (0.5, 0.2, 0.3), (0.2, 0.5, 0.3), (0.3, 0.2, 0.5), (0.4, 0.4, 0.2), (0.4, 0.2, 0.4), (0.2, 0.4, 0.4), (0.3, 0.4, 0.3), (0.3, 0.3, 0.4), (0.4, 0.3, 0.3)]\n"
     ]
    }
   ],
   "source": [
    "from itertools import combinations_with_replacement, permutations\n",
    "concentration_ranges = [0, 0.1, 0.2, 0.3, 0.4, 0.5, 0.6, 0.7, 0.8, 0.9, 1]\n",
    "conc = list(itertools.combinations_with_replacement(concentration_ranges,3))\n",
    "valid_permutations = []\n",
    "for con in conc:\n",
    "    permuted_conc = set(permutations(con))\n",
    "    for perm in permuted_conc:\n",
    "        if sum(perm) == 1:\n",
    "            valid_permutations.append(perm)\n",
    "print(valid_permutations)"
   ]
  },
  {
   "cell_type": "markdown",
   "metadata": {},
   "source": [
    "# create new dataframe with smiles:composition pairs\n"
   ]
  },
  {
   "cell_type": "code",
   "execution_count": null,
   "metadata": {},
   "outputs": [],
   "source": [
    "c = list(itertools.product(combinations, valid_permutations))\n",
    "df = pd.DataFrame(c, columns =['smiles', 'composition'])"
   ]
  },
  {
   "cell_type": "code",
   "execution_count": 6,
   "metadata": {},
   "outputs": [],
   "source": [
    "# split smiles and composition\n",
    "df['smiles1'] = df.smiles.str[0].str.strip()\n",
    "df['smiles2'] = df.smiles.str[1].str.strip()\n",
    "df['smiles3'] = df.smiles.str[2].str.strip()\n",
    "df[['c1','c2','c3']] = pd.DataFrame(df.composition.tolist(), index = df.index)"
   ]
  },
  {
   "cell_type": "code",
   "execution_count": 9,
   "metadata": {},
   "outputs": [],
   "source": [
    "# create SMILES and Composition columns\n",
    "df['SMILES'] = df['smiles1'] + ',' + df['smiles2'] + ',' + df['smiles3']\n",
    "df['Composition'] = df['c1'].astype('string') + ',' + df['c2'].astype('string') + ',' + df['c3'].astype('string')"
   ]
  },
  {
   "cell_type": "markdown",
   "metadata": {},
   "source": [
    "# Fill in variables for candidates"
   ]
  },
  {
   "cell_type": "code",
   "execution_count": null,
   "metadata": {},
   "outputs": [],
   "source": [
    "df['Temp(C)'] = 25\n",
    "df['RH(%)'] = 100\n",
    "df['Source'] = 'candidate'\n",
    "df['ID'] = 'candidate'\n",
    "df['IEC'] = 0\n",
    "df['Name'] = 'candidate'\n",
    "df['Type'] = 'candidate'"
   ]
  },
  {
   "cell_type": "code",
   "execution_count": null,
   "metadata": {},
   "outputs": [],
   "source": [
    "df.to_csv('')"
   ]
  },
  {
   "cell_type": "code",
   "execution_count": 13,
   "metadata": {},
   "outputs": [
    {
     "name": "stdout",
     "output_type": "stream",
     "text": [
      "<class 'pandas.core.frame.DataFrame'>\n",
      "RangeIndex: 9429952 entries, 0 to 9429951\n",
      "Data columns (total 17 columns):\n",
      " #   Column       Dtype  \n",
      "---  ------       -----  \n",
      " 0   smiles       object \n",
      " 1   composition  object \n",
      " 2   smiles1      object \n",
      " 3   smiles2      object \n",
      " 4   smiles3      object \n",
      " 5   c1           float64\n",
      " 6   c2           float64\n",
      " 7   c3           float64\n",
      " 8   SMILES       object \n",
      " 9   Composition  object \n",
      " 10  Temp(C)      int64  \n",
      " 11  RH(%)        int64  \n",
      " 12  Source       object \n",
      " 13  ID           object \n",
      " 14  IEC          int64  \n",
      " 15  Name         object \n",
      " 16  Type         object \n",
      "dtypes: float64(3), int64(3), object(11)\n",
      "memory usage: 1.2+ GB\n"
     ]
    }
   ],
   "source": [
    "df['Composition'] = df['Composition'].astype(object)\n",
    "df.info()"
   ]
  }
 ],
 "metadata": {
  "interpreter": {
   "hash": "c7d34fa58b98438452ab5965172ac76aa39ee1f550684ca4926bb6b2acbdda08"
  },
  "kernelspec": {
   "display_name": "Python 3.8.7 ('.venv': poetry)",
   "language": "python",
   "name": "python3"
  },
  "language_info": {
   "codemirror_mode": {
    "name": "ipython",
    "version": 3
   },
   "file_extension": ".py",
   "mimetype": "text/x-python",
   "name": "python",
   "nbconvert_exporter": "python",
   "pygments_lexer": "ipython3",
   "version": "3.8.19"
  },
  "orig_nbformat": 4
 },
 "nbformat": 4,
 "nbformat_minor": 2
}
